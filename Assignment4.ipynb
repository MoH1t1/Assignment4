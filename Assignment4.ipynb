{
  "metadata": {
    "kernelspec": {
      "name": "python",
      "display_name": "Python (Pyodide)",
      "language": "python"
    },
    "language_info": {
      "codemirror_mode": {
        "name": "python",
        "version": 3
      },
      "file_extension": ".py",
      "mimetype": "text/x-python",
      "name": "python",
      "nbconvert_exporter": "python",
      "pygments_lexer": "ipython3",
      "version": "3.8"
    }
  },
  "nbformat_minor": 4,
  "nbformat": 4,
  "cells": [
    {
      "cell_type": "code",
      "source": "# Q1. Create a python program to sort the given list of tuples based on integer value using a lambda function.\n# [('Sachin Tendulkar', 34357), ('Ricky Ponting', 27483), ('Jack Kallis', 25534), ('Virat Kohli', 24936)]\n\ndata = [('Sachin Tendulkar', 34357), ('Ricky Ponting', 27483), ('Jack Kallis', 25534), ('Virat Kohli', 24936)]\nsorted_data = sorted(data, key=lambda x: x[1])\nprint(sorted_data)",
      "metadata": {
        "trusted": true
      },
      "outputs": [
        {
          "name": "stdout",
          "text": "[('Virat Kohli', 24936), ('Jack Kallis', 25534), ('Ricky Ponting', 27483), ('Sachin Tendulkar', 34357)]\n",
          "output_type": "stream"
        }
      ],
      "execution_count": 1
    },
    {
      "cell_type": "code",
      "source": "# Q2. Write a Python Program to find the squares of all the numbers in the given list of integers using lambda and map functions.\n# [1, 2, 3, 4, 5, 6, 7, 8, 9, 10]\n\nnumbers = [1, 2, 3, 4, 5, 6, 7, 8, 9, 10]\nsquares = list(map(lambda x: x**2, numbers))\nprint(squares)",
      "metadata": {
        "trusted": true
      },
      "outputs": [
        {
          "name": "stdout",
          "text": "[1, 4, 9, 16, 25, 36, 49, 64, 81, 100]\n",
          "output_type": "stream"
        }
      ],
      "execution_count": 2
    },
    {
      "cell_type": "code",
      "source": "# Q3. Write a python program to convert the given list of integers into a tuple of strings. Use map and lambda functions\n# Given String: [1, 2, 3, 4, 5, 6, 7, 8, 9, 10]\n# Expected output: ('1', '2', '3', '4', '5', '6', '7', '8', '9', '10')\n\nnumbers = [1, 2, 3, 4, 5, 6, 7, 8, 9, 10]\ntuple_of_strings = tuple(map(lambda x: str(x), numbers))\nprint(tuple_of_strings)",
      "metadata": {
        "trusted": true
      },
      "outputs": [
        {
          "name": "stdout",
          "text": "('1', '2', '3', '4', '5', '6', '7', '8', '9', '10')\n",
          "output_type": "stream"
        }
      ],
      "execution_count": 3
    },
    {
      "cell_type": "code",
      "source": "# Q4. Write a python program using reduce function to compute the product of a list containing numbers from 1 to 25.\n\nfrom functools import reduce\nnumbers = list(range(1, 26))\nproduct = reduce(lambda x, y: x * y, numbers)\nprint(product)",
      "metadata": {
        "trusted": true
      },
      "outputs": [
        {
          "name": "stdout",
          "text": "15511210043330985984000000\n",
          "output_type": "stream"
        }
      ],
      "execution_count": 4
    },
    {
      "cell_type": "code",
      "source": "# Q5. Write a python program to filter the numbers in a given list that are divisible by 2 and 3 using the filter function.\n# [2, 3, 6, 9, 27, 60, 90, 120, 55, 46]\n\nnumbers = [2, 3, 6, 9, 27, 60, 90, 120, 55, 46]\ndivisible_by_2_and_3 = list(filter(lambda x: x % 2 == 0 and x % 3 == 0, numbers))\nprint(divisible_by_2_and_3)",
      "metadata": {
        "trusted": true
      },
      "outputs": [
        {
          "name": "stdout",
          "text": "[6, 60, 90, 120]\n",
          "output_type": "stream"
        }
      ],
      "execution_count": 6
    },
    {
      "cell_type": "code",
      "source": "# Q6. Write a python program to find palindromes in the given list of strings using lambda and filter function.\n# ['python', 'php', 'aba', 'radar', 'level']\n\nstrings = ['python', 'php', 'aba', 'radar', 'level']\npalindromes = list(filter(lambda x: x == x[::-1], strings))\nprint(palindromes)",
      "metadata": {
        "trusted": true
      },
      "outputs": [
        {
          "name": "stdout",
          "text": "['php', 'aba', 'radar', 'level']\n",
          "output_type": "stream"
        }
      ],
      "execution_count": 7
    }
  ]
}